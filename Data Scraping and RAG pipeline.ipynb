{
 "cells": [
  {
   "cell_type": "code",
   "execution_count": 1,
   "id": "f1233409-1122-4559-ad04-e9d9c040424c",
   "metadata": {
    "tags": []
   },
   "outputs": [
    {
     "name": "stderr",
     "output_type": "stream",
     "text": [
      "/opt/conda/envs/rag_env/lib/python3.10/site-packages/tqdm/auto.py:21: TqdmWarning: IProgress not found. Please update jupyter and ipywidgets. See https://ipywidgets.readthedocs.io/en/stable/user_install.html\n",
      "  from .autonotebook import tqdm as notebook_tqdm\n"
     ]
    }
   ],
   "source": [
    "import os\n",
    "import sys\n",
    "import time\n",
    "import json\n",
    "import re\n",
    "import ast\n",
    "import fitz  # PyMuPDF\n",
    "import faiss\n",
    "import numpy as np\n",
    "import pandas as pd\n",
    "import torch\n",
    "import nltk\n",
    "import spacy\n",
    "import praw\n",
    "import fitz\n",
    "import nest_asyncio\n",
    "import asyncio\n",
    "import matplotlib.pyplot as plt\n",
    "import seaborn as sns\n",
    "from crawl4ai import AsyncWebCrawler\n",
    "from crawl4ai.async_configs import BrowserConfig, CrawlerRunConfig\n",
    "from tqdm import tqdm\n",
    "from collections import Counter\n",
    "from datetime import datetime, timezone\n",
    "from psaw import PushshiftAPI\n",
    "from nltk.corpus import stopwords\n",
    "from google.cloud import storage, aiplatform\n",
    "from transformers import AutoModelForCausalLM, AutoTokenizer\n",
    "from langchain.embeddings import HuggingFaceEmbeddings\n",
    "from langchain.text_splitter import RecursiveCharacterTextSplitter\n",
    "from langchain.vectorstores import FAISS, Chroma\n",
    "from langchain.llms import VertexAI\n",
    "from langchain.chains import RetrievalQA\n",
    "from langchain.document_loaders import TextLoader, PyMuPDFLoader\n",
    "from langchain.chat_models import ChatVertexAI\n",
    "from vertexai.language_models import TextGenerationModel\n",
    "from google import genai\n",
    "from google.genai.types import (\n",
    "    FunctionDeclaration,\n",
    "    GenerateContentConfig,\n",
    "    GoogleSearch,\n",
    "    HarmBlockThreshold,\n",
    "    HarmCategory,\n",
    "    MediaResolution,\n",
    "    Part,\n",
    "    Retrieval,\n",
    "    SafetySetting,\n",
    "    Tool,\n",
    "    ToolCodeExecution,\n",
    "    VertexAISearch,\n",
    ")\n",
    "\n",
    "from google.cloud import storage\n",
    "from vertexai import rag\n",
    "from vertexai.generative_models import GenerativeModel, Tool\n",
    "import vertexai\n",
    "\n",
    "from IPython.display import HTML, Markdown, display\n",
    "pd.options.display.max_columns = 100\n",
    "pd.options.display.max_rows = 100\n",
    "\n",
    "import warnings\n",
    "warnings.filterwarnings('ignore')"
   ]
  },
  {
   "cell_type": "markdown",
   "id": "2aeb2aee-7a58-4081-965d-f2de224be6b2",
   "metadata": {},
   "source": [
    "# Data Scraping"
   ]
  },
  {
   "cell_type": "code",
   "execution_count": null,
   "id": "637178a1-eb18-402b-8386-4820c04a61d1",
   "metadata": {
    "tags": []
   },
   "outputs": [],
   "source": [
    "reddit = praw.Reddit(\n",
    "    client_id=\"<id>\",\n",
    "    client_secret=\"<secret>\",\n",
    "    user_agent=\"python:reddit_scraper:v1.0 (by /u/<username>)\"\n",
    ")"
   ]
  },
  {
   "cell_type": "code",
   "execution_count": 3,
   "id": "9b13da90-2c2c-43f1-b9f3-92e5dff79b8c",
   "metadata": {
    "tags": []
   },
   "outputs": [],
   "source": [
    "def search_reddit_for_nike_with_filtered_comments(subreddit_name=\"all\", query=\"Nike\", num_posts=50, max_comments=50):\n",
    "    \"\"\"Search Reddit case-insensitively for posts related to 'Nike' and return only comments containing 'Nike', each in a separate row.\"\"\"\n",
    "    \n",
    "    subreddit = reddit.subreddit(subreddit_name)\n",
    "    posts = []\n",
    "\n",
    "    # Initialize tqdm progress bar\n",
    "    for post in tqdm(subreddit.search(f'title:\"{query}\" OR selftext:\"{query}\"', sort=\"top\", limit=num_posts), total=num_posts, desc=\"Scraping Reddit Posts\"):\n",
    "        post_id = post.id  # Store post ID for better data tracking\n",
    "        post_title = post.title\n",
    "        post_score = post.score\n",
    "        post_url = post.url\n",
    "        post_created_utc = datetime.utcfromtimestamp(post.created_utc).strftime('%Y-%m-%d %H:%M:%S')\n",
    "\n",
    "        # Scrape comments and filter only those containing \"Nike\" (case-insensitive)\n",
    "        post.comments.replace_more(limit=0)  # Expand comments fully\n",
    "        filtered_comments = [\n",
    "            (comment.body, comment.score)  # ✅ Include comment upvotes\n",
    "            for comment in post.comments.list()[:max_comments]\n",
    "            if re.search(r\"\\bnike\\b\", comment.body, re.IGNORECASE)  # Case-insensitive match\n",
    "        ]\n",
    "\n",
    "        # If no relevant comments, still store post info with \"No relevant comments\"\n",
    "        if not filtered_comments:\n",
    "            posts.append({\n",
    "                \"post_id\": post_id,\n",
    "                \"post_title\": post_title,\n",
    "                \"post_score\": post_score,\n",
    "                \"post_url\": post_url,\n",
    "                \"post_created_utc\": post_created_utc,\n",
    "                \"comment_text\": \"No relevant comments\",\n",
    "                \"comment_score\": None\n",
    "            })\n",
    "        else:\n",
    "            # Store each comment in a separate row\n",
    "            for comment_text, comment_score in filtered_comments:\n",
    "                posts.append({\n",
    "                    \"post_id\": post_id,\n",
    "                    \"post_title\": post_title,\n",
    "                    \"post_score\": post_score,\n",
    "                    \"post_url\": post_url,\n",
    "                    \"post_created_utc\": post_created_utc,\n",
    "                    \"comment_text\": comment_text,\n",
    "                    \"comment_score\": comment_score\n",
    "                })\n",
    "\n",
    "        time.sleep(1)  # Avoid rate limits\n",
    "\n",
    "    return pd.DataFrame(posts)\n",
    "\n",
    "# 🔥 Example Usage\n",
    "df = search_reddit_for_nike_with_filtered_comments(subreddit_name=\"runningshoegeeks\", query=\"nike\", num_posts=2, max_comments=2)\n",
    "subreddits = [\"nike\", \"puma\", \"adidas\", \"underarmour\", \"sneakers\", \"runningshoegeeks\", \"streetwear\", \"sneakerdeals\", \"running\", \"runningshoegeeks\"]\n",
    "\n",
    "# df.to_csv(\"nike_posts_with_comments.csv\", index=False)\n",
    "df"
   ]
  },
  {
   "cell_type": "code",
   "execution_count": 4,
   "id": "ad3a42a7-b291-4a66-a74c-603f7108f59d",
   "metadata": {},
   "outputs": [],
   "source": [
    "# df.to_csv(\"nike_posts_with_comments.csv\", index=False)"
   ]
  },
  {
   "cell_type": "markdown",
   "id": "1840b9e7-a602-4640-bb33-656f9aff1c1e",
   "metadata": {},
   "source": [
    "# Data Read"
   ]
  },
  {
   "cell_type": "code",
   "execution_count": 7,
   "id": "5dd80b87-0438-4b7b-a19a-f91161837f1e",
   "metadata": {
    "tags": []
   },
   "outputs": [
    {
     "name": "stdout",
     "output_type": "stream",
     "text": [
      "(38173, 9) (3529, 9) (582, 9) (542, 9) (16753, 9)\n"
     ]
    },
    {
     "data": {
      "text/plain": [
       "(59579, 9)"
      ]
     },
     "execution_count": 7,
     "metadata": {},
     "output_type": "execute_result"
    }
   ],
   "source": [
    "df1 = pd.read_csv(r'data_subreddits_top_v1.csv')\n",
    "df2 = pd.read_csv(r'data_subreddits_top_v2.csv')\n",
    "df3 = pd.read_csv(r'data_subreddits_top_v3.csv')\n",
    "df4 = pd.read_csv(r'data_subreddits_top_v4.csv')\n",
    "df_new = pd.read_csv(r'data_subreddits_new.csv')\n",
    "\n",
    "print(df1.shape, df2.shape, df3.shape, df4.shape, df_new.shape)\n",
    "df = pd.concat([df1, df2, df3, df4, df_new])\n",
    "df.shape"
   ]
  },
  {
   "cell_type": "code",
   "execution_count": 8,
   "id": "71362d01-0c7b-44e7-a473-cacda58ca8ef",
   "metadata": {
    "tags": []
   },
   "outputs": [
    {
     "data": {
      "text/plain": [
       "(30611, 10)"
      ]
     },
     "execution_count": 8,
     "metadata": {},
     "output_type": "execute_result"
    }
   ],
   "source": [
    "df['keyword'] = df['keyword'].replace({\"Under Armour\": \"Under Armour/UnderArmour\", \n",
    "                                       \"UnderArmour\": \"Under Armour/UnderArmour\"})\n",
    "\n",
    "df_filt = df[df['comment_text']!='No relevant comments']\n",
    "df_filt = df_filt[~((df_filt['subreddit']=='all') & (df_filt['keyword']=='Puma'))]\n",
    "# df_filt = df_filt.drop_duplicates()\n",
    "df_filt = df_filt.drop_duplicates(subset=['comment_text'])\n",
    "\n",
    "df_filt.columns = [col.strip() for col in df_filt.columns] \n",
    "\n",
    "if df_filt.columns.duplicated().any():\n",
    "    df_filt = df_filt.loc[:, ~df_filt.columns.duplicated()]\n",
    "\n",
    "if 'post_created_utc' in df_filt.columns:\n",
    "    # Convert 'post_created_utc' to datetime\n",
    "    df_filt['post_created_utc'] = pd.to_datetime(df_filt['post_created_utc'], errors='coerce')\n",
    "    \n",
    "    # Create a 'year' column from 'post_created_utc'\n",
    "    df_filt['year'] = df_filt['post_created_utc'].dt.year\n",
    "else:\n",
    "    print(\"Column 'post_created_utc' is missing in the DataFrame.\")\n",
    "\n",
    "df_filt = df_filt.drop_duplicates(subset=['comment_text'])\n",
    "df_filt.dropna(inplace=True)\n",
    "df_filt['year'] = df_filt['year'].astype(int)\n",
    "df_filt.shape"
   ]
  },
  {
   "cell_type": "code",
   "execution_count": 9,
   "id": "d099d3bf-f7bc-4b56-92fc-7cd36d595b4e",
   "metadata": {
    "tags": []
   },
   "outputs": [
    {
     "data": {
      "text/plain": [
       "Index(['subreddit', 'keyword', 'post_id', 'post_title', 'post_score',\n",
       "       'post_url', 'post_created_utc', 'comment_text', 'comment_score',\n",
       "       'year'],\n",
       "      dtype='object')"
      ]
     },
     "execution_count": 9,
     "metadata": {},
     "output_type": "execute_result"
    }
   ],
   "source": [
    "df_filt.columns"
   ]
  },
  {
   "cell_type": "code",
   "execution_count": 10,
   "id": "b4e29deb-753a-43ae-a2a2-45f869785562",
   "metadata": {
    "tags": []
   },
   "outputs": [],
   "source": [
    "# df_filt.to_csv('data_subreddits_filtered_final.csv')"
   ]
  },
  {
   "cell_type": "code",
   "execution_count": 11,
   "id": "8de65a6b-ed5e-4a57-bf99-0ff7a4ce7be2",
   "metadata": {
    "tags": []
   },
   "outputs": [],
   "source": [
    "# # df = pd.read_csv(r'data_subreddits_top_v1.csv')\n",
    "# # df = pd.read_csv(r'nike_posts_with_comments_top.csv')\n",
    "# df_filt = df[df['comment_text']!='No relevant comments']\n",
    "# df_filt = df_filt[~((df_filt['subreddit']=='all') & (df_filt['keyword']=='Puma'))]\n",
    "# # df_filt = df_filt.drop_duplicates()\n",
    "# df_filt = df_filt.drop_duplicates(subset=['comment_text'])\n",
    "# df_filt['post_created_utc'] = pd.to_datetime(df['post_created_utc'], errors='coerce')\n",
    "# df_filt['year'] = df_filt['post_created_utc'].dt.year\n",
    "\n",
    "# df_filt = df_filt[(df_filt['year']>=2019) & (df_filt['year']<=2024)]\n",
    "# subreddits_to_remove = ['nike', 'puma', 'adidas', 'underarmour', 'streetwear', 'all']\n",
    "# df_filt = df_filt[~df_filt['subreddit'].isin(subreddits_to_remove)]\n",
    "# df_filt.to_csv(\"data_subreddits_top_filtered.csv\", index=False)\n",
    "# df_filt.shape"
   ]
  },
  {
   "cell_type": "code",
   "execution_count": 12,
   "id": "5cf1b71a-391d-4968-97d7-8217b8c8c508",
   "metadata": {
    "tags": []
   },
   "outputs": [
    {
     "data": {
      "text/html": [
       "<div>\n",
       "<style scoped>\n",
       "    .dataframe tbody tr th:only-of-type {\n",
       "        vertical-align: middle;\n",
       "    }\n",
       "\n",
       "    .dataframe tbody tr th {\n",
       "        vertical-align: top;\n",
       "    }\n",
       "\n",
       "    .dataframe thead th {\n",
       "        text-align: right;\n",
       "    }\n",
       "</style>\n",
       "<table border=\"1\" class=\"dataframe\">\n",
       "  <thead>\n",
       "    <tr style=\"text-align: right;\">\n",
       "      <th></th>\n",
       "      <th>subreddit</th>\n",
       "      <th>keyword</th>\n",
       "      <th>post_id</th>\n",
       "      <th>post_title</th>\n",
       "      <th>post_score</th>\n",
       "      <th>post_url</th>\n",
       "      <th>post_created_utc</th>\n",
       "      <th>comment_text</th>\n",
       "      <th>comment_score</th>\n",
       "      <th>year</th>\n",
       "    </tr>\n",
       "  </thead>\n",
       "  <tbody>\n",
       "    <tr>\n",
       "      <th>0</th>\n",
       "      <td>nike</td>\n",
       "      <td>Nike</td>\n",
       "      <td>1hmvot4</td>\n",
       "      <td>NFL Players Unit I won at auction filled with ...</td>\n",
       "      <td>1657.0</td>\n",
       "      <td>https://www.reddit.com/gallery/1hmvot4</td>\n",
       "      <td>2024-12-26 19:20:04</td>\n",
       "      <td>They need to bring them Nike Air CB out again.</td>\n",
       "      <td>2.0</td>\n",
       "      <td>2024</td>\n",
       "    </tr>\n",
       "    <tr>\n",
       "      <th>1</th>\n",
       "      <td>nike</td>\n",
       "      <td>Nike</td>\n",
       "      <td>1hmvot4</td>\n",
       "      <td>NFL Players Unit I won at auction filled with ...</td>\n",
       "      <td>1657.0</td>\n",
       "      <td>https://www.reddit.com/gallery/1hmvot4</td>\n",
       "      <td>2024-12-26 19:20:04</td>\n",
       "      <td>I feel like I see Nike Dunk 6.0 Lime green/ br...</td>\n",
       "      <td>1.0</td>\n",
       "      <td>2024</td>\n",
       "    </tr>\n",
       "    <tr>\n",
       "      <th>2</th>\n",
       "      <td>nike</td>\n",
       "      <td>Nike</td>\n",
       "      <td>1hmvot4</td>\n",
       "      <td>NFL Players Unit I won at auction filled with ...</td>\n",
       "      <td>1657.0</td>\n",
       "      <td>https://www.reddit.com/gallery/1hmvot4</td>\n",
       "      <td>2024-12-26 19:20:04</td>\n",
       "      <td>I got mine on clearance from the Nike store.</td>\n",
       "      <td>2.0</td>\n",
       "      <td>2024</td>\n",
       "    </tr>\n",
       "    <tr>\n",
       "      <th>3</th>\n",
       "      <td>nike</td>\n",
       "      <td>Nike</td>\n",
       "      <td>lan856</td>\n",
       "      <td>Yea I was that mom that messaged Nike asking q...</td>\n",
       "      <td>1495.0</td>\n",
       "      <td>https://i.redd.it/u33n4f2cqze61.jpg</td>\n",
       "      <td>2021-02-02 04:18:44</td>\n",
       "      <td>This would be awesome to see - come on Nike - ...</td>\n",
       "      <td>46.0</td>\n",
       "      <td>2021</td>\n",
       "    </tr>\n",
       "    <tr>\n",
       "      <th>4</th>\n",
       "      <td>nike</td>\n",
       "      <td>Nike</td>\n",
       "      <td>lan856</td>\n",
       "      <td>Yea I was that mom that messaged Nike asking q...</td>\n",
       "      <td>1495.0</td>\n",
       "      <td>https://i.redd.it/u33n4f2cqze61.jpg</td>\n",
       "      <td>2021-02-02 04:18:44</td>\n",
       "      <td>Hi  , my daughter has cerebral palsy too and t...</td>\n",
       "      <td>6.0</td>\n",
       "      <td>2021</td>\n",
       "    </tr>\n",
       "  </tbody>\n",
       "</table>\n",
       "</div>"
      ],
      "text/plain": [
       "  subreddit keyword  post_id  \\\n",
       "0      nike    Nike  1hmvot4   \n",
       "1      nike    Nike  1hmvot4   \n",
       "2      nike    Nike  1hmvot4   \n",
       "3      nike    Nike   lan856   \n",
       "4      nike    Nike   lan856   \n",
       "\n",
       "                                          post_title  post_score  \\\n",
       "0  NFL Players Unit I won at auction filled with ...      1657.0   \n",
       "1  NFL Players Unit I won at auction filled with ...      1657.0   \n",
       "2  NFL Players Unit I won at auction filled with ...      1657.0   \n",
       "3  Yea I was that mom that messaged Nike asking q...      1495.0   \n",
       "4  Yea I was that mom that messaged Nike asking q...      1495.0   \n",
       "\n",
       "                                 post_url    post_created_utc  \\\n",
       "0  https://www.reddit.com/gallery/1hmvot4 2024-12-26 19:20:04   \n",
       "1  https://www.reddit.com/gallery/1hmvot4 2024-12-26 19:20:04   \n",
       "2  https://www.reddit.com/gallery/1hmvot4 2024-12-26 19:20:04   \n",
       "3     https://i.redd.it/u33n4f2cqze61.jpg 2021-02-02 04:18:44   \n",
       "4     https://i.redd.it/u33n4f2cqze61.jpg 2021-02-02 04:18:44   \n",
       "\n",
       "                                        comment_text  comment_score  year  \n",
       "0     They need to bring them Nike Air CB out again.            2.0  2024  \n",
       "1  I feel like I see Nike Dunk 6.0 Lime green/ br...            1.0  2024  \n",
       "2       I got mine on clearance from the Nike store.            2.0  2024  \n",
       "3  This would be awesome to see - come on Nike - ...           46.0  2021  \n",
       "4  Hi  , my daughter has cerebral palsy too and t...            6.0  2021  "
      ]
     },
     "execution_count": 12,
     "metadata": {},
     "output_type": "execute_result"
    }
   ],
   "source": [
    "df_filt.head()"
   ]
  },
  {
   "cell_type": "code",
   "execution_count": 13,
   "id": "d0ec8694-53db-4ba0-a55c-f2c394b2346b",
   "metadata": {
    "tags": []
   },
   "outputs": [
    {
     "data": {
      "text/plain": [
       "array(['nike', 'puma', 'adidas', 'underarmour', 'sneakers',\n",
       "       'runningshoegeeks', 'streetwear', 'sneakerdeals', 'running', 'all',\n",
       "       'shoes', 'moresneakers', 'sneakermarket', 'dunksnotdead',\n",
       "       'sneakerhead', 'xxrunning'], dtype=object)"
      ]
     },
     "execution_count": 13,
     "metadata": {},
     "output_type": "execute_result"
    }
   ],
   "source": [
    "df_filt['subreddit'].unique()"
   ]
  },
  {
   "cell_type": "code",
   "execution_count": 14,
   "id": "d56d0f1d-1dce-4dc8-be14-7b27b6bf13fa",
   "metadata": {
    "tags": []
   },
   "outputs": [
    {
     "data": {
      "text/html": [
       "<div>\n",
       "<style scoped>\n",
       "    .dataframe tbody tr th:only-of-type {\n",
       "        vertical-align: middle;\n",
       "    }\n",
       "\n",
       "    .dataframe tbody tr th {\n",
       "        vertical-align: top;\n",
       "    }\n",
       "\n",
       "    .dataframe thead th {\n",
       "        text-align: right;\n",
       "    }\n",
       "</style>\n",
       "<table border=\"1\" class=\"dataframe\">\n",
       "  <thead>\n",
       "    <tr style=\"text-align: right;\">\n",
       "      <th></th>\n",
       "      <th>keyword</th>\n",
       "      <th>count</th>\n",
       "    </tr>\n",
       "  </thead>\n",
       "  <tbody>\n",
       "    <tr>\n",
       "      <th>1</th>\n",
       "      <td>Nike</td>\n",
       "      <td>14953</td>\n",
       "    </tr>\n",
       "    <tr>\n",
       "      <th>0</th>\n",
       "      <td>Adidas</td>\n",
       "      <td>10096</td>\n",
       "    </tr>\n",
       "    <tr>\n",
       "      <th>2</th>\n",
       "      <td>Puma</td>\n",
       "      <td>2560</td>\n",
       "    </tr>\n",
       "    <tr>\n",
       "      <th>3</th>\n",
       "      <td>Skechers</td>\n",
       "      <td>1557</td>\n",
       "    </tr>\n",
       "    <tr>\n",
       "      <th>4</th>\n",
       "      <td>Under Armour/UnderArmour</td>\n",
       "      <td>1445</td>\n",
       "    </tr>\n",
       "  </tbody>\n",
       "</table>\n",
       "</div>"
      ],
      "text/plain": [
       "                    keyword  count\n",
       "1                      Nike  14953\n",
       "0                    Adidas  10096\n",
       "2                      Puma   2560\n",
       "3                  Skechers   1557\n",
       "4  Under Armour/UnderArmour   1445"
      ]
     },
     "execution_count": 14,
     "metadata": {},
     "output_type": "execute_result"
    }
   ],
   "source": [
    "df_filt.groupby(['keyword']).size().reset_index(name='count').sort_values(by= ['count'], ascending = False)"
   ]
  },
  {
   "cell_type": "code",
   "execution_count": 15,
   "id": "06d73199-eb28-45d6-b1af-235b1d0d890e",
   "metadata": {
    "tags": []
   },
   "outputs": [
    {
     "data": {
      "text/html": [
       "<div>\n",
       "<style scoped>\n",
       "    .dataframe tbody tr th:only-of-type {\n",
       "        vertical-align: middle;\n",
       "    }\n",
       "\n",
       "    .dataframe tbody tr th {\n",
       "        vertical-align: top;\n",
       "    }\n",
       "\n",
       "    .dataframe thead th {\n",
       "        text-align: right;\n",
       "    }\n",
       "</style>\n",
       "<table border=\"1\" class=\"dataframe\">\n",
       "  <thead>\n",
       "    <tr style=\"text-align: right;\">\n",
       "      <th></th>\n",
       "      <th>subreddit</th>\n",
       "      <th>count</th>\n",
       "    </tr>\n",
       "  </thead>\n",
       "  <tbody>\n",
       "    <tr>\n",
       "      <th>1</th>\n",
       "      <td>all</td>\n",
       "      <td>11607</td>\n",
       "    </tr>\n",
       "    <tr>\n",
       "      <th>12</th>\n",
       "      <td>sneakers</td>\n",
       "      <td>5733</td>\n",
       "    </tr>\n",
       "    <tr>\n",
       "      <th>7</th>\n",
       "      <td>runningshoegeeks</td>\n",
       "      <td>5114</td>\n",
       "    </tr>\n",
       "    <tr>\n",
       "      <th>13</th>\n",
       "      <td>streetwear</td>\n",
       "      <td>1904</td>\n",
       "    </tr>\n",
       "    <tr>\n",
       "      <th>6</th>\n",
       "      <td>running</td>\n",
       "      <td>1900</td>\n",
       "    </tr>\n",
       "    <tr>\n",
       "      <th>0</th>\n",
       "      <td>adidas</td>\n",
       "      <td>953</td>\n",
       "    </tr>\n",
       "    <tr>\n",
       "      <th>4</th>\n",
       "      <td>nike</td>\n",
       "      <td>919</td>\n",
       "    </tr>\n",
       "    <tr>\n",
       "      <th>3</th>\n",
       "      <td>moresneakers</td>\n",
       "      <td>550</td>\n",
       "    </tr>\n",
       "    <tr>\n",
       "      <th>11</th>\n",
       "      <td>sneakermarket</td>\n",
       "      <td>432</td>\n",
       "    </tr>\n",
       "    <tr>\n",
       "      <th>8</th>\n",
       "      <td>shoes</td>\n",
       "      <td>412</td>\n",
       "    </tr>\n",
       "    <tr>\n",
       "      <th>5</th>\n",
       "      <td>puma</td>\n",
       "      <td>294</td>\n",
       "    </tr>\n",
       "    <tr>\n",
       "      <th>2</th>\n",
       "      <td>dunksnotdead</td>\n",
       "      <td>291</td>\n",
       "    </tr>\n",
       "    <tr>\n",
       "      <th>9</th>\n",
       "      <td>sneakerdeals</td>\n",
       "      <td>202</td>\n",
       "    </tr>\n",
       "    <tr>\n",
       "      <th>15</th>\n",
       "      <td>xxrunning</td>\n",
       "      <td>137</td>\n",
       "    </tr>\n",
       "    <tr>\n",
       "      <th>14</th>\n",
       "      <td>underarmour</td>\n",
       "      <td>112</td>\n",
       "    </tr>\n",
       "    <tr>\n",
       "      <th>10</th>\n",
       "      <td>sneakerhead</td>\n",
       "      <td>51</td>\n",
       "    </tr>\n",
       "  </tbody>\n",
       "</table>\n",
       "</div>"
      ],
      "text/plain": [
       "           subreddit  count\n",
       "1                all  11607\n",
       "12          sneakers   5733\n",
       "7   runningshoegeeks   5114\n",
       "13        streetwear   1904\n",
       "6            running   1900\n",
       "0             adidas    953\n",
       "4               nike    919\n",
       "3       moresneakers    550\n",
       "11     sneakermarket    432\n",
       "8              shoes    412\n",
       "5               puma    294\n",
       "2       dunksnotdead    291\n",
       "9       sneakerdeals    202\n",
       "15         xxrunning    137\n",
       "14       underarmour    112\n",
       "10       sneakerhead     51"
      ]
     },
     "execution_count": 15,
     "metadata": {},
     "output_type": "execute_result"
    }
   ],
   "source": [
    "df_filt.groupby(['subreddit']).size().reset_index(name='count').sort_values(by= ['count'], ascending = False)"
   ]
  },
  {
   "cell_type": "code",
   "execution_count": 16,
   "id": "e5ab50dd-f171-437e-bfaf-9a0509caa213",
   "metadata": {
    "tags": []
   },
   "outputs": [
    {
     "data": {
      "image/png": "[encoded data removed]",
      "text/plain": [
       "<Figure size 1000x600 with 1 Axes>"
      ]
     },
     "metadata": {},
     "output_type": "display_data"
    }
   ],
   "source": [
    "\n",
    "grouped_data = df_filt.groupby(['year', 'keyword']).size().reset_index(name='count').sort_values(by= ['year', 'count'], ascending = False)\n",
    "\n",
    "plt.figure(figsize=(10, 6))\n",
    "sns.lineplot(data=grouped_data, x='year', y='count', hue='keyword', marker='o')\n",
    "\n",
    "# Customize plot\n",
    "plt.title('Occurrences by Year and Keyword', fontsize=16)\n",
    "plt.xlabel('Year', fontsize=12)\n",
    "plt.ylabel('Count', fontsize=12)\n",
    "plt.grid(True)\n",
    "plt.tight_layout()\n",
    "\n",
    "# Show plot\n",
    "plt.show()"
   ]
  },
  {
   "cell_type": "code",
   "execution_count": 17,
   "id": "f1e00c62-c82d-413f-9fd0-55a5230926b5",
   "metadata": {
    "tags": []
   },
   "outputs": [
    {
     "data": {
      "text/html": [
       "<div>\n",
       "<style scoped>\n",
       "    .dataframe tbody tr th:only-of-type {\n",
       "        vertical-align: middle;\n",
       "    }\n",
       "\n",
       "    .dataframe tbody tr th {\n",
       "        vertical-align: top;\n",
       "    }\n",
       "\n",
       "    .dataframe thead th {\n",
       "        text-align: right;\n",
       "    }\n",
       "</style>\n",
       "<table border=\"1\" class=\"dataframe\">\n",
       "  <thead>\n",
       "    <tr style=\"text-align: right;\">\n",
       "      <th>keyword</th>\n",
       "      <th>Adidas</th>\n",
       "      <th>Nike</th>\n",
       "      <th>Puma</th>\n",
       "      <th>Skechers</th>\n",
       "      <th>Under Armour/UnderArmour</th>\n",
       "    </tr>\n",
       "    <tr>\n",
       "      <th>year</th>\n",
       "      <th></th>\n",
       "      <th></th>\n",
       "      <th></th>\n",
       "      <th></th>\n",
       "      <th></th>\n",
       "    </tr>\n",
       "  </thead>\n",
       "  <tbody>\n",
       "    <tr>\n",
       "      <th>2010</th>\n",
       "      <td>0.0</td>\n",
       "      <td>0.0</td>\n",
       "      <td>0.0</td>\n",
       "      <td>0.0</td>\n",
       "      <td>30.0</td>\n",
       "    </tr>\n",
       "    <tr>\n",
       "      <th>2011</th>\n",
       "      <td>6.0</td>\n",
       "      <td>13.0</td>\n",
       "      <td>0.0</td>\n",
       "      <td>0.0</td>\n",
       "      <td>4.0</td>\n",
       "    </tr>\n",
       "    <tr>\n",
       "      <th>2012</th>\n",
       "      <td>13.0</td>\n",
       "      <td>109.0</td>\n",
       "      <td>5.0</td>\n",
       "      <td>15.0</td>\n",
       "      <td>7.0</td>\n",
       "    </tr>\n",
       "    <tr>\n",
       "      <th>2013</th>\n",
       "      <td>42.0</td>\n",
       "      <td>66.0</td>\n",
       "      <td>5.0</td>\n",
       "      <td>1.0</td>\n",
       "      <td>11.0</td>\n",
       "    </tr>\n",
       "    <tr>\n",
       "      <th>2014</th>\n",
       "      <td>13.0</td>\n",
       "      <td>263.0</td>\n",
       "      <td>24.0</td>\n",
       "      <td>17.0</td>\n",
       "      <td>120.0</td>\n",
       "    </tr>\n",
       "    <tr>\n",
       "      <th>2015</th>\n",
       "      <td>197.0</td>\n",
       "      <td>259.0</td>\n",
       "      <td>79.0</td>\n",
       "      <td>61.0</td>\n",
       "      <td>121.0</td>\n",
       "    </tr>\n",
       "    <tr>\n",
       "      <th>2016</th>\n",
       "      <td>530.0</td>\n",
       "      <td>381.0</td>\n",
       "      <td>130.0</td>\n",
       "      <td>24.0</td>\n",
       "      <td>107.0</td>\n",
       "    </tr>\n",
       "    <tr>\n",
       "      <th>2017</th>\n",
       "      <td>773.0</td>\n",
       "      <td>1022.0</td>\n",
       "      <td>91.0</td>\n",
       "      <td>18.0</td>\n",
       "      <td>185.0</td>\n",
       "    </tr>\n",
       "    <tr>\n",
       "      <th>2018</th>\n",
       "      <td>1200.0</td>\n",
       "      <td>1762.0</td>\n",
       "      <td>272.0</td>\n",
       "      <td>91.0</td>\n",
       "      <td>88.0</td>\n",
       "    </tr>\n",
       "    <tr>\n",
       "      <th>2019</th>\n",
       "      <td>753.0</td>\n",
       "      <td>1627.0</td>\n",
       "      <td>86.0</td>\n",
       "      <td>42.0</td>\n",
       "      <td>48.0</td>\n",
       "    </tr>\n",
       "    <tr>\n",
       "      <th>2020</th>\n",
       "      <td>629.0</td>\n",
       "      <td>1120.0</td>\n",
       "      <td>185.0</td>\n",
       "      <td>90.0</td>\n",
       "      <td>218.0</td>\n",
       "    </tr>\n",
       "    <tr>\n",
       "      <th>2021</th>\n",
       "      <td>360.0</td>\n",
       "      <td>1490.0</td>\n",
       "      <td>152.0</td>\n",
       "      <td>191.0</td>\n",
       "      <td>86.0</td>\n",
       "    </tr>\n",
       "    <tr>\n",
       "      <th>2022</th>\n",
       "      <td>1429.0</td>\n",
       "      <td>2227.0</td>\n",
       "      <td>215.0</td>\n",
       "      <td>235.0</td>\n",
       "      <td>108.0</td>\n",
       "    </tr>\n",
       "    <tr>\n",
       "      <th>2023</th>\n",
       "      <td>1175.0</td>\n",
       "      <td>1422.0</td>\n",
       "      <td>369.0</td>\n",
       "      <td>253.0</td>\n",
       "      <td>91.0</td>\n",
       "    </tr>\n",
       "    <tr>\n",
       "      <th>2024</th>\n",
       "      <td>2130.0</td>\n",
       "      <td>2093.0</td>\n",
       "      <td>796.0</td>\n",
       "      <td>442.0</td>\n",
       "      <td>142.0</td>\n",
       "    </tr>\n",
       "    <tr>\n",
       "      <th>2025</th>\n",
       "      <td>846.0</td>\n",
       "      <td>1099.0</td>\n",
       "      <td>151.0</td>\n",
       "      <td>77.0</td>\n",
       "      <td>79.0</td>\n",
       "    </tr>\n",
       "  </tbody>\n",
       "</table>\n",
       "</div>"
      ],
      "text/plain": [
       "keyword  Adidas    Nike   Puma  Skechers  Under Armour/UnderArmour\n",
       "year                                                              \n",
       "2010        0.0     0.0    0.0       0.0                      30.0\n",
       "2011        6.0    13.0    0.0       0.0                       4.0\n",
       "2012       13.0   109.0    5.0      15.0                       7.0\n",
       "2013       42.0    66.0    5.0       1.0                      11.0\n",
       "2014       13.0   263.0   24.0      17.0                     120.0\n",
       "2015      197.0   259.0   79.0      61.0                     121.0\n",
       "2016      530.0   381.0  130.0      24.0                     107.0\n",
       "2017      773.0  1022.0   91.0      18.0                     185.0\n",
       "2018     1200.0  1762.0  272.0      91.0                      88.0\n",
       "2019      753.0  1627.0   86.0      42.0                      48.0\n",
       "2020      629.0  1120.0  185.0      90.0                     218.0\n",
       "2021      360.0  1490.0  152.0     191.0                      86.0\n",
       "2022     1429.0  2227.0  215.0     235.0                     108.0\n",
       "2023     1175.0  1422.0  369.0     253.0                      91.0\n",
       "2024     2130.0  2093.0  796.0     442.0                     142.0\n",
       "2025      846.0  1099.0  151.0      77.0                      79.0"
      ]
     },
     "execution_count": 17,
     "metadata": {},
     "output_type": "execute_result"
    }
   ],
   "source": [
    "pivot_df = grouped_data.pivot(index='year', columns='keyword', values='count').fillna(0)\n",
    "pivot_df"
   ]
  },
  {
   "cell_type": "markdown",
   "id": "0b2a9b5c-bed7-4774-ae01-c67b4630ebb7",
   "metadata": {},
   "source": [
    "# RAG"
   ]
  },
  {
   "cell_type": "markdown",
   "id": "7eda7b71-bb14-4944-b85c-d4652ca08c1d",
   "metadata": {},
   "source": [
    "## Saving to bucket"
   ]
  },
  {
   "cell_type": "code",
   "execution_count": 18,
   "id": "1e9fc2e6-aec6-4993-830e-b2d11beab5ea",
   "metadata": {
    "tags": []
   },
   "outputs": [],
   "source": [
    "# df4['comment_text'].dropna().to_csv('Data for RAG/comments.txt', index=False, header=False, sep='\\n')"
   ]
  },
  {
   "cell_type": "code",
   "execution_count": 19,
   "id": "266892b8-33fb-40a2-9f44-c1ea6dadaa72",
   "metadata": {
    "tags": []
   },
   "outputs": [
    {
     "data": {
      "text/plain": [
       "array(['Nike', 'Puma', 'Under Armour', 'Adidas', 'Skechers'], dtype=object)"
      ]
     },
     "execution_count": 19,
     "metadata": {},
     "output_type": "execute_result"
    }
   ],
   "source": [
    "df_filt['keyword'] = df_filt['keyword'].replace({\"Under Armour/UnderArmour\": \"Under Armour\"})\n",
    "df_filt.keyword.unique()"
   ]
  },
  {
   "cell_type": "code",
   "execution_count": 21,
   "id": "e200b56a-2b28-404f-8cba-ca2caa9a6fbf",
   "metadata": {
    "tags": []
   },
   "outputs": [],
   "source": [
    "# df_filt.to_csv('final.csv')"
   ]
  },
  {
   "cell_type": "code",
   "execution_count": null,
   "id": "4491662b-5581-4c23-86a2-5071d6bcf007",
   "metadata": {
    "tags": []
   },
   "outputs": [],
   "source": [
    "# Assuming df is your DataFrame and has 'keyword', 'comment_text', and 'year' columns\n",
    "keywords = df_filt['keyword'].dropna().unique()  # Get unique keywords from the DataFrame\n",
    "years = df_filt['year'].dropna().unique()  # Get unique years from the DataFrame\n",
    "\n",
    "# Define the GCS bucket and folder path where you want to store the files\n",
    "bucket_name = \"<gcp-bucket-name>\"\n",
    "gcs_folder_path = \"Data for RAG/\"  # Path in GCS\n",
    "\n",
    "# Initialize Google Cloud Storage client\n",
    "client = storage.Client()\n",
    "bucket = client.bucket(bucket_name)\n",
    "\n",
    "# Loop through each keyword and year to create a text file\n",
    "for keyword in keywords:\n",
    "    for year in years:\n",
    "        # Filter the DataFrame by both keyword and year, then get the corresponding 'comment_text'\n",
    "        comments = df_filt[(df_filt['keyword'] == keyword) & (df_filt['year'] == year)]['comment_text'].dropna()\n",
    "\n",
    "        # Only proceed if there are comments for that keyword and year combination\n",
    "        if not comments.empty:\n",
    "            # Create a local text file with the keyword and year in the name\n",
    "            local_filename = f\"{keyword.replace(' ', '_')}_{year}.txt\"\n",
    "            \n",
    "            # Save the comments of that keyword and year to the local text file\n",
    "            comments.to_csv(local_filename, index=False, header=False, sep='\\n')\n",
    "\n",
    "            # Define the path in GCS where the file will be uploaded\n",
    "            gcs_file_path = f\"{gcs_folder_path}{local_filename}\"\n",
    "\n",
    "            # Create a blob object for the file in GCS\n",
    "            blob = bucket.blob(gcs_file_path)\n",
    "\n",
    "            # Upload the local file to GCS\n",
    "            blob.upload_from_filename(local_filename)\n",
    "\n",
    "            # Clean up local file\n",
    "            os.remove(local_filename)\n",
    "\n",
    "            print(f\"TXT file for keyword '{keyword}' and year '{year}' successfully uploaded to GCS: gs://{bucket_name}/{gcs_file_path}\")\n"
   ]
  },
  {
   "cell_type": "markdown",
   "id": "9cd5008c-7e91-421f-938f-1ecc1086b891",
   "metadata": {},
   "source": [
    "## RAG Pipeline"
   ]
  },
  {
   "cell_type": "code",
   "execution_count": null,
   "id": "9c15ae0c-63b0-4075-afc1-6978e2c84780",
   "metadata": {
    "tags": []
   },
   "outputs": [],
   "source": [
    "MODEL_ID = \"gemini-2.0-flash-001\"  # @param {type: \"string\"}\n",
    "PROJECT_ID = \"<PROJECT_ID>\"\n",
    "LOCATION = \"us-central1\" \n",
    "\n",
    "display_name = \"test_corpus\"\n",
    "paths = [\"gs://<bucket>/Data for RAG/\"]  # Supports Google Cloud Storage and Google Drive Links"
   ]
  },
  {
   "cell_type": "code",
   "execution_count": 34,
   "id": "f784e81e-de8c-493a-a21d-f018f6754056",
   "metadata": {
    "tags": []
   },
   "outputs": [],
   "source": [
    "vertexai.init(project=PROJECT_ID, location=\"us-central1\")\n",
    "\n",
    "# Create RagCorpus\n",
    "# Configure embedding model, for example \"text-embedding-004\".\n",
    "embedding_model_config = rag.EmbeddingModelConfig(\n",
    "  publisher_model=\"publishers/google/models/text-embedding-004\"\n",
    ")\n",
    "\n",
    "backend_config = rag.RagVectorDbConfig(rag_embedding_model_config=embedding_model_config)\n",
    "\n",
    "rag_corpus = rag.create_corpus(\n",
    "    display_name=display_name,\n",
    "    backend_config=backend_config,\n",
    ")\n",
    "\n",
    "# List the rag corpus you just created\n",
    "rag_corpus = rag.list_corpora()"
   ]
  },
  {
   "cell_type": "code",
   "execution_count": 49,
   "id": "73288a4f-1767-4c16-a368-c4dc812c40ba",
   "metadata": {
    "tags": []
   },
   "outputs": [
    {
     "data": {
      "text/plain": [
       "imported_rag_files_count: 1"
      ]
     },
     "execution_count": 49,
     "metadata": {},
     "output_type": "execute_result"
    }
   ],
   "source": [
    "# Import Files to the RagCorpus\n",
    "# choose a corpus to import files to, you can use rag_corpus.name for just created corpus\n",
    "# or use the name in list_corpora()\n",
    "\n",
    "for corpus in rag_corpus:\n",
    "    corpus_name = corpus.name \n",
    "    \n",
    "# corpus_name = rag_corpus.name\n",
    "\n",
    "transformation_config = rag.TransformationConfig(\n",
    "      chunking_config=rag.ChunkingConfig(\n",
    "          chunk_size=512,\n",
    "          chunk_overlap=100,\n",
    "      ),\n",
    "  )\n",
    "\n",
    "rag.import_files(\n",
    "    corpus_name,\n",
    "    paths,\n",
    "    transformation_config=transformation_config, # Optional\n",
    "    max_embedding_requests_per_min=1000,  # Optional\n",
    ")"
   ]
  },
  {
   "cell_type": "code",
   "execution_count": null,
   "id": "a4ef4ad2-3884-4ad3-bca8-6a70c0a0763d",
   "metadata": {},
   "outputs": [],
   "source": [
    "# # Alternatively, you can use async import\n",
    "# response = await rag.import_files_async(\n",
    "#   corpus_name,\n",
    "#   paths,\n",
    "#   transformation_config=transformation_config, # Optional\n",
    "#   max_embedding_requests_per_min=1000,  # Optional\n",
    "# )\n",
    "# result = await response.result()\n",
    "# print(result)"
   ]
  },
  {
   "cell_type": "code",
   "execution_count": 1,
   "id": "88e6bb68-8bb2-4ae9-a74d-5b3ee1a59c0e",
   "metadata": {
    "tags": []
   },
   "outputs": [],
   "source": [
    "# List the files in the rag corpus\n",
    "rag.list_files(corpus_name)\n",
    "\n",
    "# Direct context retrieval\n",
    "rag_retrieval_config=rag.RagRetrievalConfig(\n",
    "    top_k=5,  # Optional\n",
    "    filter=rag.Filter(vector_distance_threshold=0.5)  # Optional\n",
    ")\n",
    "response = rag.retrieval_query(\n",
    "    rag_resources=[\n",
    "        rag.RagResource(\n",
    "            rag_corpus=corpus_name,\n",
    "            # Optional: supply IDs from `rag.list_files()`.\n",
    "            # rag_file_ids=[\"rag-file-1\", \"rag-file-2\", ...],\n",
    "        )\n",
    "    ],\n",
    "    text=\"What do people think about Under Armour? Summarize it in 5 bullet points\",\n",
    "    rag_retrieval_config=rag_retrieval_config,\n",
    ")\n"
   ]
  },
  {
   "cell_type": "code",
   "execution_count": 54,
   "id": "a557f851-d5d9-406a-9d6e-0d98829d8810",
   "metadata": {
    "tags": []
   },
   "outputs": [
    {
     "name": "stdout",
     "output_type": "stream",
     "text": [
      "Here's a summary of what people think about Under Armour, based on the provided comments:\n",
      "\n",
      "*   Some people think Under Armour makes awesome stuff, like metal baseball cleats.\n",
      "*   Some find Under Armour's clothing decent, and Under Armour makes damn good stuff.\n",
      "*   There are complaints about the poor fit of Under Armour for larger people.\n",
      "*   Some find Under Armour expensive, even at the outlet stores.\n",
      "*   Under Armour is considered uncool by some, with some feeling their cleats are of terrible quality, and Under Armour is for grandpas.\n"
     ]
    }
   ],
   "source": [
    "# Enhance generation\n",
    "# Create a RAG retrieval tool\n",
    "rag_retrieval_tool = Tool.from_retrieval(\n",
    "    retrieval=rag.Retrieval(\n",
    "        source=rag.VertexRagStore(\n",
    "            rag_resources=[\n",
    "                rag.RagResource(\n",
    "                    rag_corpus=corpus_name,  # Currently only 1 corpus is allowed.\n",
    "                    # Optional: supply IDs from `rag.list_files()`.\n",
    "                    # rag_file_ids=[\"rag-file-1\", \"rag-file-2\", ...],\n",
    "                )\n",
    "            ],\n",
    "            rag_retrieval_config=rag_retrieval_config,\n",
    "        ),\n",
    "    )\n",
    ")\n",
    "# Create a gemini model instance\n",
    "rag_model = GenerativeModel(\n",
    "    model_name=MODEL_ID, tools=[rag_retrieval_tool]\n",
    ")\n",
    "\n",
    "# Generate response\n",
    "response = rag_model.generate_content(\"What do people think about Under Armour? Summarize it in 5 bullet points\")\n",
    "print(response.text)"
   ]
  }
 ],
 "metadata": {
  "environment": {
   "kernel": "rag_env-kernel",
   "name": "workbench-notebooks.m128",
   "type": "gcloud",
   "uri": "us-docker.pkg.dev/deeplearning-platform-release/gcr.io/workbench-notebooks:m128"
  },
  "kernelspec": {
   "display_name": "rag_env-kernel (Local)",
   "language": "python",
   "name": "rag_env-kernel"
  },
  "language_info": {
   "codemirror_mode": {
    "name": "ipython",
    "version": 3
   },
   "file_extension": ".py",
   "mimetype": "text/x-python",
   "name": "python",
   "nbconvert_exporter": "python",
   "pygments_lexer": "ipython3",
   "version": "3.10.16"
  }
 },
 "nbformat": 4,
 "nbformat_minor": 5
}
